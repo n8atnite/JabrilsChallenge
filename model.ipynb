{
 "metadata": {
  "language_info": {
   "codemirror_mode": {
    "name": "ipython",
    "version": 3
   },
   "file_extension": ".py",
   "mimetype": "text/x-python",
   "name": "python",
   "nbconvert_exporter": "python",
   "pygments_lexer": "ipython3",
   "version": "3.6.12"
  },
  "orig_nbformat": 4,
  "kernelspec": {
   "name": "python3",
   "display_name": "Python 3.6.12 64-bit ('ai': conda)"
  },
  "interpreter": {
   "hash": "7e342d851adfea16f4eb34c56ad10eafea4590865e1c0dd17dcc62666dc125c2"
  }
 },
 "nbformat": 4,
 "nbformat_minor": 2,
 "cells": [
  {
   "cell_type": "markdown",
   "source": [
    "REMEMBER TO SWITCH TO (ai) CONDA BRANCH"
   ],
   "metadata": {}
  },
  {
   "cell_type": "code",
   "execution_count": 41,
   "source": [
    "import sys\n",
    "import os\n",
    "import numpy as np\n",
    "from random import random as rand\n",
    "import random\n",
    "from torch.utils.data import Dataset, DataLoader\n",
    "from torch import nn\n",
    "import torch\n",
    "import matplotlib.pyplot as plt\n",
    "import torch.cuda as cuda\n",
    "from tqdm import tqdm"
   ],
   "outputs": [],
   "metadata": {}
  },
  {
   "cell_type": "code",
   "execution_count": 42,
   "source": [
    "device = torch.device(\"cuda\" if torch.cuda.is_available() else \"cpu\")\n",
    "print(\"Device name: \", cuda.get_device_name(device))"
   ],
   "outputs": [
    {
     "output_type": "stream",
     "name": "stdout",
     "text": [
      "Device name:  GeForce GTX 1060 6GB\n"
     ]
    }
   ],
   "metadata": {}
  },
  {
   "cell_type": "code",
   "execution_count": 43,
   "source": [
    "# hyperparameters etc.\n",
    "TRAINSIZE = 8000\n",
    "TESTSIZE = 100\n",
    "LUMA = np.array([0.2126,0.7152,0.0722])\n",
    "EPOCHS = 4\n",
    "LEARNING_RATE = 1e-4\n",
    "BATCH_SIZE = 32\n",
    "# NUM_WORKERS = 8 # 3700x = 8 cores\n",
    "torch.manual_seed(0)\n",
    "np.random.seed(0)\n",
    "# random.seed(0)"
   ],
   "outputs": [],
   "metadata": {}
  },
  {
   "cell_type": "code",
   "execution_count": 44,
   "source": [
    "#helper functions\n",
    "def get_training_data(trainsize):\n",
    "    dimsize = int(trainsize**(1/3)) + 1\n",
    "    if dimsize > 256:\n",
    "        print(\"WARNING: training size truncated to max RGB range.\")\n",
    "        dimsize = 256\n",
    "    size = np.linspace(0,255,dimsize, dtype=\"float32\")\n",
    "    trainvalues = np.vstack(np.meshgrid(size,size,size)).reshape(3,-1).T # create 1D array of 3D coords\n",
    "    np.random.shuffle(trainvalues)\n",
    "    trainlabels = np.array([1 if np.dot(LUMA,data)/255 > 0.5 else 0 for data in trainvalues])\n",
    "    # traindata = np.hstack((trainvalues,np.atleast_2d(trainlabels).T))\n",
    "    return trainvalues, trainlabels\n",
    "\n",
    "def get_testing_data(testsize):\n",
    "    testvalues = np.floor(np.array([[rand()*255,\n",
    "                            rand()*255,\n",
    "                            rand()*255] for i in range(testsize)]))\n",
    "    testlabels = np.array([1 if np.dot(LUMA,data)/255 > 0.5 else 0 for data in testvalues])\n",
    "    # testdata = np.hstack((testvalues,np.atleast_2d(testlabels).T))\n",
    "    return testvalues, testlabels\n",
    "\n",
    "def plot_loss_curve(running_loss):\n",
    "    plt.plot(running_loss)\n",
    "    plt.show()\n",
    "\n",
    "def display_colors(values, labels, model=None, test=False):\n",
    "    samples = np.array(random.sample(list(enumerate(values)), 5),dtype=object)\n",
    "    if test:\n",
    "        fig, axs = plt.subplots(2,5, figsize=(10,2))\n",
    "        neural_output = model(torch.from_numpy(np.array(samples[:,1].tolist())).to(device).float())\n",
    "        _, predicted = torch.max(neural_output.data, 1)\n",
    "    else:\n",
    "        fig, axs = plt.subplots(1,5, figsize=(10,1))\n",
    "    text = [\"these\",\"are\",\"the\",\"correct\",\"labels\"]\n",
    "    textn = [\"these\",\"are\",\"the\",\"neural\",\"labels\"]\n",
    "    if test:\n",
    "        for i, ax in enumerate(axs.reshape(-1)):\n",
    "            if i < 5:\n",
    "                ax.text(0,0,text[i],size=30,ha=\"center\",va=\"center\",bbox=dict(\n",
    "                    boxstyle=\"square\",\n",
    "                    color=tuple(samples[i][1]/255)\n",
    "                    ),\n",
    "                    color=((0,0,0) if labels[samples[i][0]] else (1,1,1))\n",
    "                )\n",
    "                ax.axis(\"off\")\n",
    "            else:\n",
    "                ax.text(0,0,textn[i-5],size=30,ha=\"center\",va=\"center\",bbox=dict(\n",
    "                    boxstyle=\"square\",\n",
    "                    color=tuple(samples[i-5][1]/255)\n",
    "                    ),\n",
    "                    color=((0,0,0) if predicted[i-5] else (1,1,1))\n",
    "                )\n",
    "                ax.axis(\"off\")\n",
    "    else:\n",
    "        for i, ax in enumerate(axs):\n",
    "            ax.text(0,0,text[i],size=30,ha=\"center\",va=\"center\",bbox=dict(\n",
    "                boxstyle=\"square\",\n",
    "                color=tuple(samples[i][1]/255)\n",
    "                ),\n",
    "                color=((0,0,0) if labels[samples[i][0]] else (1,1,1))\n",
    "            )\n",
    "            ax.axis(\"off\")\n",
    "    fig.tight_layout()\n",
    "    plt.show()"
   ],
   "outputs": [],
   "metadata": {}
  },
  {
   "cell_type": "code",
   "execution_count": 45,
   "source": [
    "#data generation\n",
    "traindata = get_training_data(TRAINSIZE)\n",
    "testdata = get_testing_data(TESTSIZE)\n",
    "print(\"train data shape: \",traindata[0].shape)\n",
    "print(\"test data shape: \",testdata[0].shape)\n",
    "display_colors(traindata[0],traindata[1])\n"
   ],
   "outputs": [
    {
     "output_type": "stream",
     "name": "stdout",
     "text": [
      "train data shape:  (8000, 3)\n",
      "test data shape:  (100, 3)\n"
     ]
    },
    {
     "output_type": "display_data",
     "data": {
      "text/plain": [
       "<Figure size 720x72 with 5 Axes>"
      ],
      "image/png": "[encoded data removed]"
     },
     "metadata": {
      "needs_background": "light"
     }
    }
   ],
   "metadata": {}
  },
  {
   "cell_type": "code",
   "execution_count": 46,
   "source": [
    "#model architecture\n",
    "class RGBDataset(Dataset):\n",
    "    def __init__(self,data):\n",
    "        self.features = torch.from_numpy(data[0])\n",
    "        self.labels = torch.from_numpy(data[1])\n",
    "\n",
    "    # iterator; ith element of dataset (e.g. dataset[i])\n",
    "    def __getitem__(self, index):\n",
    "        return self.features[index], self.labels[index]\n",
    "        \n",
    "    def __len__(self):\n",
    "        return self.features.shape[0]\n",
    "\n",
    "train_set = RGBDataset(traindata)\n",
    "test_set  = RGBDataset(testdata)\n",
    "\n",
    "dataloader = DataLoader(dataset=train_set, batch_size=BATCH_SIZE, shuffle=False)\n",
    "testloader = DataLoader(dataset=test_set, batch_size=BATCH_SIZE, shuffle=False)\n",
    "\n",
    "class MLP(nn.Module):\n",
    "    def __init__(self):\n",
    "        super().__init__()\n",
    "        self.layers = nn.Sequential(\n",
    "            nn.Linear(3,64),\n",
    "            nn.ReLU(),\n",
    "            nn.Linear(64,32),\n",
    "            nn.ReLU(),\n",
    "            nn.Linear(32,2)\n",
    "        ).to(device)\n",
    "    \n",
    "    def forward(self, x):\n",
    "        return self.layers(x)\n",
    "\n"
   ],
   "outputs": [],
   "metadata": {}
  },
  {
   "cell_type": "code",
   "execution_count": 47,
   "source": [
    "#training\n",
    "mlp = MLP()\n",
    "mlp.to(device)\n",
    "n_iterations = len(train_set)//BATCH_SIZE\n",
    "loss_function = nn.CrossEntropyLoss()\n",
    "optimizer = torch.optim.Adam(mlp.parameters(),lr=LEARNING_RATE)\n",
    "\n",
    "running_loss = []\n",
    "for epoch in range(EPOCHS):\n",
    "    current_loss = 0.0\n",
    "    for batch, (inputs, labels) in enumerate(dataloader):\n",
    "        inputs = inputs.to(device)\n",
    "        labels = labels.to(device)\n",
    "        optimizer.zero_grad()\n",
    "        outputs = mlp(inputs)\n",
    "        loss = loss_function(outputs, labels)\n",
    "        loss.backward()\n",
    "        optimizer.step()\n",
    "        current_loss += loss.item()\n",
    "\n",
    "        if (batch) % 50 == 49:\n",
    "            # print('\\tEpoch %d | Batch %d | Loss %6.2f' % (epoch+1, batch, loss.item()))\n",
    "            running_loss.append(current_loss)\n",
    "            tmp_loss = current_loss\n",
    "            current_loss = 0.0\n",
    "    print('Epoch %d done...' % (epoch+1))\n",
    "    tmp_loss = 0.0\n",
    "plot_loss_curve(running_loss)"
   ],
   "outputs": [
    {
     "output_type": "stream",
     "name": "stdout",
     "text": [
      "Epoch 1 done...\n",
      "Epoch 2 done...\n",
      "Epoch 3 done...\n",
      "Epoch 4 done...\n"
     ]
    },
    {
     "output_type": "display_data",
     "data": {
      "text/plain": [
       "<Figure size 432x288 with 1 Axes>"
      ],
      "image/png": "[encoded data removed]"
     },
     "metadata": {
      "needs_background": "light"
     }
    }
   ],
   "metadata": {}
  },
  {
   "cell_type": "code",
   "execution_count": 48,
   "source": [
    "#testing\n",
    "correct = 0\n",
    "total = 0\n",
    "with torch.no_grad():\n",
    "    for batch, (inputs, labels) in enumerate(testloader):\n",
    "        inputs = inputs.to(device).float()\n",
    "        labels = labels.to(device).float()\n",
    "        outputs = mlp(inputs)\n",
    "        _, predicted = torch.max(outputs.data, 1)\n",
    "        total += labels.size(0)\n",
    "        correct += (predicted == labels).sum().item()\n",
    "    display_colors(testdata[0],testdata[1],mlp,test=True)\n",
    "acc  = correct/total\n",
    "print('test accuracy on %d samples: %f %%' % (TESTSIZE,acc*100))"
   ],
   "outputs": [
    {
     "output_type": "stream",
     "name": "stdout",
     "text": [
      "0\n",
      "1\n",
      "2\n",
      "3\n",
      "4\n",
      "5\n",
      "6\n",
      "7\n",
      "8\n",
      "9\n"
     ]
    },
    {
     "output_type": "display_data",
     "data": {
      "text/plain": [
       "<Figure size 720x144 with 10 Axes>"
      ],
      "image/png": "[encoded data removed]"
     },
     "metadata": {
      "needs_background": "light"
     }
    },
    {
     "output_type": "stream",
     "name": "stdout",
     "text": [
      "test accuracy on 100 samples: 77.000000 %\n"
     ]
    }
   ],
   "metadata": {}
  }
 ]
}